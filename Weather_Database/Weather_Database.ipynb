{
 "cells": [
  {
   "cell_type": "markdown",
   "metadata": {},
   "source": [
    "# Deliverable 1. Retrieve Weather Data.\n",
    "---\n",
    "1. Create a folder called `Weather_Database` to save all the files related with this deliverable.\n",
    "\n",
    "2. Save the `Weather_Database_starter_code.ipynb` starter code to the `Weather_Database` folder and rename it as `Weather_Database.ipynb`.\n",
    "\n",
    "3. Use the `np.random.uniform` function to generate a new set of 2,000 random latitudes and 2,000 longitudes.\n",
    "\n",
    "4. Use the `citipy` module to get the nearest city for each latitude and longitude combination.\n",
    "\n",
    "5. Import your OpenWeatherMap's API key and assemble the API call URL as a string variable. Recall to edit the `config.py` file to add your API key; also, it's critical to avoid publishing your API key on your GitHub repository.\n",
    "\n",
    "6. Retrieve the following information from the API call:\n",
    "\n",
    "    * Latitude and longitude\n",
    "\n",
    "    * Maximum temperature\n",
    "\n",
    "    * Percent humidity\n",
    "\n",
    "    * Percent cloudiness\n",
    "\n",
    "    * Wind speed\n",
    "\n",
    "    * Weather description (for example, clouds, fog, light rain, clear sky)\n",
    "\n",
    "7. Add the weather data to a new DataFrame.\n",
    "\n",
    "8. Export the DataFrame as a CSV file, and save it as `WeatherPy_Database.csv` in the `Weather_Database` folder.\n",
    "---"
   ]
  },
  {
   "cell_type": "code",
   "execution_count": 1,
   "metadata": {},
   "outputs": [],
   "source": [
    "# Import initial libraries\n",
    "import numpy as np\n",
    "import pandas as pd\n",
    "from citipy import citipy"
   ]
  },
  {
   "cell_type": "markdown",
   "metadata": {},
   "source": [
    "## Use the `np.random.uniform` function to generate a new set of 2,000 random latitudes and 2,000 longitudes."
   ]
  },
  {
   "cell_type": "code",
   "execution_count": 2,
   "metadata": {},
   "outputs": [],
   "source": [
    "# Create a set of random latitude and longitude combinations\n",
    "lats = np.random.uniform(low=-90.000, high=90.000, size=2000)\n",
    "lngs = np.random.uniform(low=-180.000, high=180.000, size=2000)\n",
    "\n",
    "# Use the zip function to create an iterator of tuples containing the latitude and longitude combinations\n",
    "lat_lngs = zip (lats,lngs)"
   ]
  },
  {
   "cell_type": "code",
   "execution_count": 3,
   "metadata": {},
   "outputs": [],
   "source": [
    "# Add the latitudes and longitudes to a list\n",
    "coordinates = list(lat_lngs)"
   ]
  },
  {
   "cell_type": "markdown",
   "metadata": {},
   "source": [
    "## Use the `citipy` module to get the nearest city for each latitude and longitude combination."
   ]
  },
  {
   "cell_type": "code",
   "execution_count": 4,
   "metadata": {},
   "outputs": [
    {
     "data": {
      "text/plain": [
       "765"
      ]
     },
     "execution_count": 4,
     "metadata": {},
     "output_type": "execute_result"
    }
   ],
   "source": [
    "# Create an empty list for holding the cities\n",
    "cities = []\n",
    "\n",
    "# Use a for loop to identify nearest city for each latitude and longitude combination using the citipy module\n",
    "for coordinate in coordinates:\n",
    "    # Use the citipy module to identify the nearest city to the current coordinate\n",
    "    city = citipy.nearest_city(coordinate[0], coordinate[1]).city_name\n",
    "    \n",
    "    # If the city is unique, then add it to a our cities list\n",
    "    if city not in cities:\n",
    "        cities.append(city)\n",
    "\n",
    "# Print the city count to confirm sufficient count\n",
    "len (cities)"
   ]
  },
  {
   "cell_type": "markdown",
   "metadata": {},
   "source": [
    "## Import your OpenWeatherMap's API key and assemble the API call URL as a string variable. Recall to edit the `config.py` file to add your API key."
   ]
  },
  {
   "cell_type": "code",
   "execution_count": 5,
   "metadata": {},
   "outputs": [],
   "source": [
    "# Import the requests library\n",
    "import requests\n",
    "\n",
    "# Import the time library\n",
    "import time\n",
    "\n",
    "# Import the datetime module from the datetime library\n",
    "from datetime import datetime\n",
    "\n",
    "# Import the OpenWeatherMap's API key\n",
    "from config import weather_api_key"
   ]
  },
  {
   "cell_type": "code",
   "execution_count": 6,
   "metadata": {},
   "outputs": [],
   "source": [
    "# Assemble the OpenWeatherMap's API call\n",
    "url = \"http://api.openweathermap.org/data/2.5/weather?units=Imperial&APPID=\" + weather_api_key"
   ]
  },
  {
   "cell_type": "markdown",
   "metadata": {},
   "source": [
    "## Retrieve the following information from the API call.\n",
    "\n",
    "- The latitude and longitude\n",
    "- The Max temperature\n",
    "- The % humidity\n",
    "- The % cloudiness\n",
    "- The Wind speed\n",
    "- The Weather description, i.e., cloudy, fog, light rain, clear sky, etc. "
   ]
  },
  {
   "cell_type": "code",
   "execution_count": 7,
   "metadata": {},
   "outputs": [
    {
     "data": {
      "text/plain": [
       "{'coord': {'lon': -0.1257, 'lat': 51.5085},\n",
       " 'weather': [{'id': 721,\n",
       "   'main': 'Haze',\n",
       "   'description': 'haze',\n",
       "   'icon': '50n'}],\n",
       " 'base': 'stations',\n",
       " 'main': {'temp': 41.65,\n",
       "  'feels_like': 38.71,\n",
       "  'temp_min': 38.62,\n",
       "  'temp_max': 44.37,\n",
       "  'pressure': 1028,\n",
       "  'humidity': 95},\n",
       " 'visibility': 3300,\n",
       " 'wind': {'speed': 4.61, 'deg': 350},\n",
       " 'clouds': {'all': 100},\n",
       " 'dt': 1669929795,\n",
       " 'sys': {'type': 2,\n",
       "  'id': 2075535,\n",
       "  'country': 'GB',\n",
       "  'sunrise': 1669880629,\n",
       "  'sunset': 1669910132},\n",
       " 'timezone': 0,\n",
       " 'id': 2643743,\n",
       " 'name': 'London',\n",
       " 'cod': 200}"
      ]
     },
     "execution_count": 7,
     "metadata": {},
     "output_type": "execute_result"
    }
   ],
   "source": [
    "city_url = url + \"&q=\" + \"London\"\n",
    "requests.get(city_url).json()"
   ]
  },
  {
   "cell_type": "code",
   "execution_count": 13,
   "metadata": {},
   "outputs": [
    {
     "ename": "SyntaxError",
     "evalue": "invalid syntax (3495735962.py, line 57)",
     "output_type": "error",
     "traceback": [
      "\u001b[0;36m  File \u001b[0;32m\"/var/folders/s_/830jbdqd3sv35vx2q874xhs80000gn/T/ipykernel_1514/3495735962.py\"\u001b[0;36m, line \u001b[0;32m57\u001b[0m\n\u001b[0;31m    \"Current Description\": current_description})\u001b[0m\n\u001b[0m                        ^\u001b[0m\n\u001b[0;31mSyntaxError\u001b[0m\u001b[0;31m:\u001b[0m invalid syntax\n"
     ]
    }
   ],
   "source": [
    "# Create an empty list to hold weather data for each city\n",
    "city_data = []\n",
    "\n",
    "# Print a message to indicate that the data retrieval starts\n",
    "print(\"Beginning Data Retrieval     \")\n",
    "print(\"-----------------------------\")\n",
    "\n",
    "# Create counters and set them to 1\n",
    "record_count = 1\n",
    "set_count = 1\n",
    "\n",
    "# Loop through all the cities in our list to fetch weather data for each city\n",
    "for i, city in enumerate(cities):\n",
    "        \n",
    "    # Group cities in sets of 50 for logging purposes\n",
    "    if (i % 50 == 0 and i >= 50):\n",
    "        set_count += 1\n",
    "        record_count = 1\n",
    "        time.sleep(60)\n",
    "\n",
    "    # Create an endpoint URL for each city\n",
    "    city_url = url + \"&q=\" + city.replace(\" \",\"+\")\n",
    "    \n",
    "    # Log the url, record, and set numbers\n",
    "    print(f\"Processing Record {record_count} of Set {set_count} | {city}\")\n",
    "\n",
    "    # Add 1 to the record count\n",
    "    record_count += 1\n",
    "\n",
    "    # Run an API request for each of the cities\n",
    "    try:\n",
    "        city_weather = requests.get(city_url).json()\n",
    "        # Parse out the latitude, longitude, max temp, humidity, cloudiness, wind, country, and weather description\n",
    "        city_lat = city_weather[\"coord\"][\"lat\"]\n",
    "        city_lng = city_weather[\"coord\"][\"lon\"]\n",
    "        city_max_temp = city_weather[\"main\"][\"temp_max\"]\n",
    "        city_humidity = city_weather[\"main\"][\"humidity\"]\n",
    "        city_clouds = city_weather[\"clouds\"][\"all\"]\n",
    "        city_wind = city_weather[\"wind\"][\"speed\"]\n",
    "        current_description = city_weather[\"weather\"][0][\"description\"]\n",
    "        city_country = city_weather[\"sys\"][\"country\"]\n",
    "        \n",
    "        # Convert the date to ISO standard.\n",
    "        city_date = datetime.utcfromtimestamp(city_weather[\"dt\"]).strftime('%Y-%m-%d %H:%M:%S')\n",
    "            \n",
    "        # Append the city information into the city_data list\n",
    "        city_data.append({\n",
    "                            \"City\": city.title(),\n",
    "                            \"Lat\": city_lat,\n",
    "                            \"Lng\": city_lng,\n",
    "                            \"Max Temp\": city_max_temp,\n",
    "                            \"Humidity\": city_humidity,\n",
    "                            \"Cloudiness\": city_clouds,\n",
    "                            \"Wind Speed\": city_wind,\n",
    "                            \"Country\": city_country,\n",
    "                            \"Date\": city_date\n",
    "                            \"Current Description\": current_description})\n",
    "\n",
    "        #city_data.append({\n",
    "                        #\"Lat\": city_lat,\n",
    "\n",
    "                          #\"Lng\": city_lng,\n",
    "                          #\"Max Temp\": city_max_temp,\n",
    "                          #\"Humidity\": city_humidity,\n",
    "                          #\"Cloudiness\": city_clouds,\n",
    "                          #\"Wind Speed\": city_wind,\n",
    "                          #\"Current Description\": current_description})\n",
    "    \n",
    "    # If an error is experienced, skip the city\n",
    "    except:\n",
    "        print(\"City not found. Skipping...\")\n",
    "        pass\n",
    "\n",
    "# Indicate that the data retrieval is complete \n",
    "print(\"-----------------------------\")\n",
    "print(\"Data Retrieval Complete      \")\n",
    "print(\"-----------------------------\")"
   ]
  },
  {
   "cell_type": "code",
   "execution_count": null,
   "metadata": {},
   "outputs": [],
   "source": [
    "# Print the length of the city_data list to verify how many cities you have\n",
    "len(city_data)"
   ]
  },
  {
   "cell_type": "markdown",
   "metadata": {},
   "source": [
    "## Add the weather data to a new DataFrame."
   ]
  },
  {
   "cell_type": "code",
   "execution_count": null,
   "metadata": {},
   "outputs": [],
   "source": [
    "# Use the city_data list to create a new pandas DataFrame.\n",
    "city_data_df = pd.DataFrame(city_data)"
   ]
  },
  {
   "cell_type": "code",
   "execution_count": null,
   "metadata": {},
   "outputs": [],
   "source": [
    "# Display sample data\n",
    "city_data_df.head(10)"
   ]
  },
  {
   "cell_type": "code",
   "execution_count": null,
   "metadata": {},
   "outputs": [],
   "source": [
    "# Display the DataFrame's column names using the columns Pandas function\n",
    "city_data_df.columns"
   ]
  },
  {
   "cell_type": "code",
   "execution_count": null,
   "metadata": {},
   "outputs": [],
   "source": [
    "# Create a list to reorder the column names as follows:\n",
    "# \"City\", \"Country\", \"Lat\", \"Lng\", \"Max Temp\", \"Humidity\",  \"Cloudiness\", \"Wind Speed\",  \"Current Description\"\n",
    "new_column_order = ['City','Country','Lat','Lng','Max Temp','Humidity','Cloudiness','Wind Speed','Current Description']\n",
    "\n",
    "# Recreate the DataFrame by using the new column order\n",
    "city_data_df = city_data_df[new_column_order]\n",
    "\n",
    "# Display sample data\n",
    "city_data_df.head(10)"
   ]
  },
  {
   "cell_type": "code",
   "execution_count": null,
   "metadata": {},
   "outputs": [],
   "source": [
    "# Display the data types of each column by using the dtypes Pandas function\n",
    "city_data_df.dtypes()"
   ]
  },
  {
   "cell_type": "markdown",
   "metadata": {},
   "source": [
    "## Export the DataFrame as a CSV file, and save it as `WeatherPy_Database.csv` in the `Weather_Database` folder."
   ]
  },
  {
   "cell_type": "code",
   "execution_count": null,
   "metadata": {},
   "outputs": [],
   "source": [
    "# Set the output file name\n",
    "output_data_file = \"WeatherPy_Database.csv\"\n",
    "\n",
    "# Export the city_data DataFrame into a CSV file\n",
    "city_data_df.to_csv(output_data_file, index_label=\"City_ID\")"
   ]
  },
  {
   "cell_type": "code",
   "execution_count": null,
   "metadata": {},
   "outputs": [],
   "source": []
  }
 ],
 "metadata": {
  "kernelspec": {
   "display_name": "Python 3 (ipykernel)",
   "language": "python",
   "name": "python3"
  },
  "language_info": {
   "codemirror_mode": {
    "name": "ipython",
    "version": 3
   },
   "file_extension": ".py",
   "mimetype": "text/x-python",
   "name": "python",
   "nbconvert_exporter": "python",
   "pygments_lexer": "ipython3",
   "version": "3.7.13"
  }
 },
 "nbformat": 4,
 "nbformat_minor": 4
}
